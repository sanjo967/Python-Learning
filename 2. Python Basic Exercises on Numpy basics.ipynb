{
  "nbformat": 4,
  "nbformat_minor": 0,
  "metadata": {
    "colab": {
      "provenance": []
    },
    "kernelspec": {
      "name": "python3",
      "display_name": "Python 3"
    },
    "language_info": {
      "name": "python"
    }
  },
  "cells": [
    {
      "cell_type": "markdown",
      "source": [
        "#Creating & Inspecting Data\n",
        "## Exercise 1 Create Arrays\n",
        "\n",
        "Make two lists, height_list and weight_list, each containing at least 10 values (they can be random or made-up).\n",
        "Convert each list into a NumPy array named np_height and np_weight."
      ],
      "metadata": {
        "id": "2Fcjhr_4Zr42"
      }
    },
    {
      "cell_type": "code",
      "source": [
        "#Importing numpy\n",
        "import numpy as np\n",
        "\n",
        "#Creating height list(cm)\n",
        "height = [179, 182, 164, 200, 179, 185, 192, 195, 196, 152]\n",
        "np_height = np.array(height)\n",
        "print(np_height)\n",
        "#Creating weight list (kg)\n",
        "weight= [69.6, 72.0, 58.2, 86.8, 69.6, 74.3, 80.0, 82.6, 83.4, 50.2]\n",
        "np_weight=np.array(weight)\n",
        "print(np_weight)\n"
      ],
      "metadata": {
        "colab": {
          "base_uri": "https://localhost:8080/"
        },
        "id": "2vhc9WTDaBdE",
        "outputId": "9b9a164a-ebb3-48d7-8620-f8199bea1050"
      },
      "execution_count": 2,
      "outputs": [
        {
          "output_type": "stream",
          "name": "stdout",
          "text": [
            "[179 182 164 200 179 185 192 195 196 152]\n",
            "[69.6 72.  58.2 86.8 69.6 74.3 80.  82.6 83.4 50.2]\n"
          ]
        }
      ]
    },
    {
      "cell_type": "markdown",
      "source": [
        "## Exercise 2 Combine into a 2D Array\n",
        "\n",
        "Use np.column_stack() (or another method) to create a 2D array called np_people, where:\n",
        "First column = heights\n",
        "Second column = weights\n",
        "Print np_people to confirm it looks right.\n",
        "\n",
        "\n"
      ],
      "metadata": {
        "id": "XZc6yT2Vcx6d"
      }
    },
    {
      "cell_type": "code",
      "source": [
        "#Creating np_people\n",
        "np_people=np.column_stack((np_height, np_weight))\n",
        "print(np_people)"
      ],
      "metadata": {
        "colab": {
          "base_uri": "https://localhost:8080/"
        },
        "id": "xXaPOb-MdIRy",
        "outputId": "07b98e70-23f5-43d0-8cd0-6dd7d75bf040"
      },
      "execution_count": 3,
      "outputs": [
        {
          "output_type": "stream",
          "name": "stdout",
          "text": [
            "[[179.   69.6]\n",
            " [182.   72. ]\n",
            " [164.   58.2]\n",
            " [200.   86.8]\n",
            " [179.   69.6]\n",
            " [185.   74.3]\n",
            " [192.   80. ]\n",
            " [195.   82.6]\n",
            " [196.   83.4]\n",
            " [152.   50.2]]\n"
          ]
        }
      ]
    },
    {
      "cell_type": "markdown",
      "source": [
        "## Exercise 3 Shape & Type\n"
      ],
      "metadata": {
        "id": "gmDRTtxOeizu"
      }
    },
    {
      "cell_type": "code",
      "source": [
        "#Printing shape of np_people\n",
        "print(np_people.shape)\n",
        "\n",
        "#Printing type of np_people\n",
        "print(type(np_people))"
      ],
      "metadata": {
        "colab": {
          "base_uri": "https://localhost:8080/"
        },
        "id": "_PPwcvPpezMA",
        "outputId": "19a9be9c-b8ce-42bc-916a-13dfe5ceae71"
      },
      "execution_count": 4,
      "outputs": [
        {
          "output_type": "stream",
          "name": "stdout",
          "text": [
            "(10, 2)\n",
            "<class 'numpy.ndarray'>\n"
          ]
        }
      ]
    },
    {
      "cell_type": "markdown",
      "source": [
        "# Summary Statistics\n",
        "## Exercise 4 Calculate Mean & Median\n",
        "\n",
        "Compute the mean of the height column (i.e., np_people[:, 0]) and print the result.\n",
        "Compute the median of the same column.\n",
        "Print a short statement describing what the average and median heights are."
      ],
      "metadata": {
        "id": "FqFH-4UZffZw"
      }
    },
    {
      "cell_type": "code",
      "source": [
        "#Calculate the mean of height\n",
        "mean_height=np.mean(np_people[:,0])\n",
        "print(mean_height)\n",
        "\n",
        "#Calculating the median height\n",
        "median_height=np.median(np_people[:,0])\n",
        "print(median_height)"
      ],
      "metadata": {
        "colab": {
          "base_uri": "https://localhost:8080/"
        },
        "id": "-CoDHRUQfpvB",
        "outputId": "b39ed546-7c86-40b5-8143-483e105f2098"
      },
      "execution_count": 5,
      "outputs": [
        {
          "output_type": "stream",
          "name": "stdout",
          "text": [
            "182.4\n",
            "183.5\n"
          ]
        }
      ]
    },
    {
      "cell_type": "code",
      "source": [],
      "metadata": {
        "id": "f16LEBcxgbdR"
      },
      "execution_count": 5,
      "outputs": []
    },
    {
      "cell_type": "markdown",
      "source": [
        "##Exercise 5 Standard Deviation\n",
        "\n",
        "Calculate the standard deviation for the weight column (np_people[:, 1]).\n",
        "Explain (in a comment) what a high or low standard deviation might indicate about your data’s spread."
      ],
      "metadata": {
        "id": "QJLigNAfhGWN"
      }
    },
    {
      "cell_type": "code",
      "source": [
        "#Calculating std deviation weight.\n",
        "std_weight=np.std(np_people[:,1])\n",
        "print(std_weight)\n",
        "\n",
        "#high standard deviation indicates a large varition in a our data. A low spread means there's not much variation."
      ],
      "metadata": {
        "colab": {
          "base_uri": "https://localhost:8080/"
        },
        "id": "o2fZSgTHhOiG",
        "outputId": "890549ae-bdb6-4293-f023-25275b02509e"
      },
      "execution_count": 6,
      "outputs": [
        {
          "output_type": "stream",
          "name": "stdout",
          "text": [
            "10.969781219331585\n"
          ]
        }
      ]
    },
    {
      "cell_type": "code",
      "source": [],
      "metadata": {
        "id": "sD0yig42h654"
      },
      "execution_count": 6,
      "outputs": []
    },
    {
      "cell_type": "markdown",
      "source": [
        "##Exercise 6 Correlations\n",
        "\n",
        "Compute the correlation coefficient between the height and weight columns.\n",
        "Write a comment explaining if they appear to be positively correlated, negatively correlated, or uncorrelated based on your result."
      ],
      "metadata": {
        "id": "tECFnv-UjHiv"
      }
    },
    {
      "cell_type": "code",
      "source": [
        "#Calculation correlation between height and weight\n",
        "correlation_weight_height=np.corrcoef(np_people[:,0], np_people[:,1])\n",
        "print(correlation_weight_height)\n",
        "\n",
        "#A correlation close to 1 means taller people tend to weigh more.\n",
        "#A correlation close to 0 would mean no relationship."
      ],
      "metadata": {
        "colab": {
          "base_uri": "https://localhost:8080/"
        },
        "id": "NYRIJaK3jRI4",
        "outputId": "2cb01ea5-5e41-43e1-9ac9-f57306f0263e"
      },
      "execution_count": 7,
      "outputs": [
        {
          "output_type": "stream",
          "name": "stdout",
          "text": [
            "[[1.         0.99912935]\n",
            " [0.99912935 1.        ]]\n"
          ]
        }
      ]
    },
    {
      "cell_type": "markdown",
      "source": [
        "# Data Validation / Sanity Checks\n",
        "## Exercise 7 Check for Weird Values\n",
        "\n",
        "Suppose you suspect some weight values might have been entered incorrectly. Find any weights that are less than 30 kg or greater than 200 kg (just an example range).\n",
        "Create a boolean array that flags these suspicious values (True if suspicious, False if not).\n",
        "Print out the actual suspicious weights."
      ],
      "metadata": {
        "id": "cN7jAVL_YR1R"
      }
    },
    {
      "cell_type": "code",
      "source": [
        "#Creating a boolean array to find high values\n",
        "high_weight =np_people[:,1]>200\n",
        "\n",
        "#print high values\n",
        "print(\"These are the high weight values \", (np_people[high_weight]))\n",
        "\n",
        "#Creating boolean array to find find low weight values\n",
        "\n",
        "low_weight = np_people[:,1]<30\n",
        "\n",
        "#printing low values\n",
        "print(\"These are the low weight values\",(np_people[low_weight]))\n",
        "\n",
        "#NOTE Code returns an empty array because values are not above 200 or below 30"
      ],
      "metadata": {
        "colab": {
          "base_uri": "https://localhost:8080/"
        },
        "id": "JUfbgj6KkBvR",
        "outputId": "157ed923-0bbd-4ef9-a0dc-9d9139e4e60e"
      },
      "execution_count": 8,
      "outputs": [
        {
          "output_type": "stream",
          "name": "stdout",
          "text": [
            "These are the high weight values  []\n",
            "These are the low weight values []\n"
          ]
        }
      ]
    },
    {
      "cell_type": "markdown",
      "source": [
        "## Exercise 8 Confirm Data Consistency\n",
        "\n",
        "Make sure the shapes of np_height and np_weight are the same. (If not, you can’t combine them consistently.)\n",
        "Print a comment on whether the data seems reasonable (e.g., average height, average weight, do the suspicious values make sense or not?).\n"
      ],
      "metadata": {
        "id": "1NqXAzakde_-"
      }
    },
    {
      "cell_type": "code",
      "source": [
        "#Confirm shape of height array\n",
        "print(\"np_height shape =\",(np_height.shape))\n",
        "\n",
        "#Confirm weight of array\n",
        "print(\"np.weight shape =\",(np_weight.shape))\n",
        "\n",
        "#They are the same shape\n"
      ],
      "metadata": {
        "colab": {
          "base_uri": "https://localhost:8080/"
        },
        "id": "R-3tcQPtd-ao",
        "outputId": "5bd354cb-fa47-4336-fd90-d7afec33a8bb"
      },
      "execution_count": 9,
      "outputs": [
        {
          "output_type": "stream",
          "name": "stdout",
          "text": [
            "np_height shape = (10,)\n",
            "np.weight shape = (10,)\n"
          ]
        }
      ]
    },
    {
      "cell_type": "markdown",
      "source": [
        "# Optional Extras\n",
        "##Exercise 9 Slicing 2D Arrays\n",
        "\n",
        "Extract only the first 5 rows from np_people (both columns).\n",
        "Extract only the height column (np_people[:, 0]) for rows 3 to 7.\n"
      ],
      "metadata": {
        "id": "LBAdd20jfQQq"
      }
    },
    {
      "cell_type": "code",
      "source": [
        "#Extraction first 5 row\n",
        "print(np_people[0:5,:])\n",
        "\n",
        "#Extract only the height column\n",
        "print(np_people[3:8,0])"
      ],
      "metadata": {
        "id": "ERoTeTHuegXc",
        "colab": {
          "base_uri": "https://localhost:8080/"
        },
        "outputId": "40e6cc31-8b0f-4f96-e3ad-ab80973e4907"
      },
      "execution_count": 10,
      "outputs": [
        {
          "output_type": "stream",
          "name": "stdout",
          "text": [
            "[[179.   69.6]\n",
            " [182.   72. ]\n",
            " [164.   58.2]\n",
            " [200.   86.8]\n",
            " [179.   69.6]]\n",
            "[200. 179. 185. 192. 195.]\n"
          ]
        }
      ]
    },
    {
      "cell_type": "markdown",
      "source": [
        "##Exercise 10 Data Generation\n",
        "Data Generation\n",
        "\n",
        "Use np.random.normal() (if you feel comfortable with it) to generate synthetic height data and store it in an array.\n",
        "Compare the mean and median of these randomly generated heights."
      ],
      "metadata": {
        "id": "AylrPRhXVdvr"
      }
    },
    {
      "cell_type": "code",
      "source": [
        "#Using np.random.normal() to generate data\n",
        "desired_mean=177\n",
        "np_height_2=np.random.normal(loc=desired_mean,size=20)\n",
        "print(np_height_2)\n",
        "#Calculate mean of np_height_2\n",
        "average_height=np.mean(np_height_2)\n",
        "\n",
        "#Calculate median of np_height 2\n",
        "median_height=np.median(np_height_2)\n",
        "\n",
        "print(\"The average height is\", round(average_height,2))\n",
        "print(\"The median height is\", round(median_height,2))\n"
      ],
      "metadata": {
        "colab": {
          "base_uri": "https://localhost:8080/"
        },
        "id": "TAtUtZvGVJkZ",
        "outputId": "bebb68f3-f4d9-4a49-c070-e5220ca8539e"
      },
      "execution_count": 11,
      "outputs": [
        {
          "output_type": "stream",
          "name": "stdout",
          "text": [
            "[178.21652234 176.86872757 178.71042636 174.20296671 176.72154069\n",
            " 179.80671881 176.68873016 177.62573332 177.88868534 177.47718449\n",
            " 177.06058656 175.58936853 175.85103751 176.6326145  177.44287578\n",
            " 176.84166212 176.90973978 177.56085277 176.85286282 178.90412934]\n",
            "The average height is 177.19\n",
            "The median height is 176.99\n"
          ]
        }
      ]
    },
    {
      "cell_type": "markdown",
      "source": [
        "## Exercise 11 Sort & Compare\n",
        "\n",
        "Sort the weight column and compare it to the unsorted version. (Hint: np.sort() vs. np_people[:,1].)"
      ],
      "metadata": {
        "id": "RxgPlopBnCbr"
      }
    },
    {
      "cell_type": "code",
      "source": [
        "#Sort the weight column\n",
        "sorted_weight=np.sort(np_people[:,1])\n",
        "print(sorted_weight)\n",
        "\n",
        "#Compare to unsorted version\n",
        "print(np_people[:,1])"
      ],
      "metadata": {
        "colab": {
          "base_uri": "https://localhost:8080/"
        },
        "id": "-UMabhtLnXOB",
        "outputId": "d17732e3-a6d1-4f31-a840-3d010e270bcc"
      },
      "execution_count": 12,
      "outputs": [
        {
          "output_type": "stream",
          "name": "stdout",
          "text": [
            "[50.2 58.2 69.6 69.6 72.  74.3 80.  82.6 83.4 86.8]\n",
            "[69.6 72.  58.2 86.8 69.6 74.3 80.  82.6 83.4 50.2]\n"
          ]
        }
      ]
    },
    {
      "cell_type": "code",
      "source": [
        "import matplotlib.pyplot as plt\n",
        "plt.hist(np_height_2, bins=10, edgecolor='black')\n",
        "plt.title(\"Height Distribution\")\n",
        "plt.xlabel(\"Height (cm)\")\n",
        "plt.ylabel(\"Frequency\")\n",
        "plt.show()\n"
      ],
      "metadata": {
        "id": "qHZtctHHnz7p",
        "colab": {
          "base_uri": "https://localhost:8080/",
          "height": 472
        },
        "outputId": "80af016b-e6f3-4b49-a654-29e3341b2f04"
      },
      "execution_count": 13,
      "outputs": [
        {
          "output_type": "display_data",
          "data": {
            "text/plain": [
              "<Figure size 640x480 with 1 Axes>"
            ],
            "image/png": "[encoded data removed]"
          },
          "metadata": {}
        }
      ]
    }
  ]
}